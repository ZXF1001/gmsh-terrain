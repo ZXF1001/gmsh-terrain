{
 "cells": [
  {
   "cell_type": "code",
   "execution_count": 1,
   "metadata": {},
   "outputs": [],
   "source": [
    "import gmsh\n",
    "import numpy as np"
   ]
  },
  {
   "cell_type": "code",
   "execution_count": 2,
   "metadata": {},
   "outputs": [],
   "source": [
    "gmsh.initialize()\n",
    "gmsh.model.add(\"my_model\")"
   ]
  },
  {
   "cell_type": "code",
   "execution_count": 3,
   "metadata": {},
   "outputs": [],
   "source": [
    "# n行m列的矩阵，代表dem数据\n",
    "# zlist = np.load(\"terrain.npy\")\n",
    "# x_dist = 11252.55935707817 # x方向的总间距\n",
    "# y_dist = 9608.555047642712 # y方向的总间距\n",
    "# lc1 = 50; # 近地面边界层网格尺寸\n",
    "# lc2 = 500; # 远离地面边界层网格尺寸\n",
    "# zMax = zlist.max() + 2000; # 最大高度\n",
    "# zLayer = 10; # 边界层厚度\n",
    "\n",
    "zlist = np.array([[0.7, 1.1, 1.2, 1.3],\n",
    "                  [1.1, 0.7, 0.8, 1.2],\n",
    "                  [1.2, 0.9, 0.7, 1.1]])\n",
    "x_dist = 4\n",
    "y_dist = 3\n",
    "lc1 = 0.5\n",
    "lc2 = 1\n",
    "zMax = 3\n",
    "zLayer = 0.1"
   ]
  },
  {
   "cell_type": "code",
   "execution_count": 4,
   "metadata": {},
   "outputs": [],
   "source": [
    "dx = x_dist / (zlist.shape[1] - 1) # x方向的间距\n",
    "dy = y_dist / (zlist.shape[0] - 1) # y方向的间距"
   ]
  },
  {
   "cell_type": "code",
   "execution_count": 5,
   "metadata": {},
   "outputs": [],
   "source": [
    "zlist = np.flipud(zlist)\n",
    "n = zlist.shape[0]\n",
    "m = zlist.shape[1]\n",
    "# 创建两个空的数组，形状和zlist一样n行m列\n",
    "# 储存下面上每个格点的tag序号\n",
    "plist_lower = np.zeros((n, m)).astype(int)\n",
    "\n",
    "# 创建代表底面上平行于x轴的线段的tag序号的数组\n",
    "# 形状为n行m-1列\n",
    "llist_x_lower = np.zeros((n, m - 1)).astype(int)\n",
    "# 创建代表底面上平行于y轴的线段的tag序号的数组\n",
    "# 形状为n-1行m列\n",
    "llist_y_lower = np.zeros((n - 1, m)).astype(int)\n",
    "\n",
    "# 创建代表底面上的线环的tag序号的数组\n",
    "# 形状为n-1行m-1列\n",
    "llist_loop_lower = np.zeros((n - 1, m - 1)).astype(int)\n",
    "# 创建代表底面上的面的tag序号的数组\n",
    "# 形状为n-1行m-1列\n",
    "slist_lower = np.zeros((n - 1, m - 1)).astype(int)"
   ]
  },
  {
   "cell_type": "code",
   "execution_count": 6,
   "metadata": {},
   "outputs": [],
   "source": [
    "factory = gmsh.model.occ"
   ]
  },
  {
   "cell_type": "code",
   "execution_count": 7,
   "metadata": {},
   "outputs": [],
   "source": [
    "for n_row, row in enumerate(zlist):\n",
    "    for n_col, z in enumerate(row):\n",
    "        plist_lower[n_row][n_col] = factory.addPoint(n_col*dx, n_row*dy, z, lc1)\n",
    "\n",
    "upper_p00_index = factory.addPoint(0, 0, zMax, lc2)\n",
    "upper_p10_index = factory.addPoint((m-1)*dx, 0, zMax, lc2)\n",
    "upper_p11_index = factory.addPoint((m-1)*dx, (n-1)*dy, zMax, lc2)\n",
    "upper_p01_index = factory.addPoint(0, (n-1)*dy, zMax, lc2)\n",
    "\n",
    "\n",
    "# 平行于x轴的线\n",
    "for n_row, row in enumerate(llist_x_lower):\n",
    "    for n_col, p_index in enumerate(row):\n",
    "        llist_x_lower[n_row][n_col] = factory.addLine(plist_lower[n_row][n_col], plist_lower[n_row][n_col + 1])\n",
    "## 顶上的线\n",
    "llist_x_upper_0 = factory.addLine(upper_p00_index, upper_p10_index)\n",
    "llist_x_upper_1 = factory.addLine(upper_p01_index, upper_p11_index)\n",
    "\n",
    "# 平行于y轴的线\n",
    "for n_row, row in enumerate(llist_y_lower):\n",
    "    for n_col, p_index in enumerate(row):\n",
    "        llist_y_lower[n_row][n_col] = factory.addLine(plist_lower[n_row][n_col], plist_lower[n_row + 1][n_col])\n",
    "## 顶上的线\n",
    "llist_y_upper_0 = factory.addLine(upper_p00_index, upper_p01_index)\n",
    "llist_y_upper_1 = factory.addLine(upper_p10_index, upper_p11_index)\n",
    "\n",
    "# 平行于z轴的线\n",
    "llist_z_00 = factory.addLine(plist_lower[0][0], upper_p00_index)\n",
    "llist_z_10 = factory.addLine(plist_lower[0][-1], upper_p10_index)\n",
    "llist_z_11 = factory.addLine(plist_lower[-1][-1], upper_p11_index)\n",
    "llist_z_01 = factory.addLine(plist_lower[-1][0], upper_p01_index)"
   ]
  },
  {
   "cell_type": "code",
   "execution_count": 8,
   "metadata": {},
   "outputs": [],
   "source": [
    "# 创建底面的线环和面\n",
    "for n_row, row in enumerate(llist_loop_lower):\n",
    "    for n_col, p_index in enumerate(row):\n",
    "        llist_loop_lower[n_row][n_col] = factory.addCurveLoop(\n",
    "            [llist_x_lower[n_row][n_col],\n",
    "             llist_y_lower[n_row][n_col + 1],\n",
    "             -llist_x_lower[n_row + 1][n_col],\n",
    "             -llist_y_lower[n_row][n_col]]\n",
    "             )\n",
    "        slist_lower[n_row][n_col] = factory.addSurfaceFilling(\n",
    "            llist_loop_lower[n_row][n_col]\n",
    "            )"
   ]
  },
  {
   "cell_type": "code",
   "execution_count": 14,
   "metadata": {},
   "outputs": [
    {
     "data": {
      "text/plain": [
       "[12, 16, 25, -10, -22]"
      ]
     },
     "execution_count": 14,
     "metadata": {},
     "output_type": "execute_result"
    }
   ],
   "source": [
    "curve_loop_left"
   ]
  },
  {
   "cell_type": "code",
   "execution_count": 10,
   "metadata": {},
   "outputs": [
    {
     "ename": "Exception",
     "evalue": "Curve loop is not closed",
     "output_type": "error",
     "traceback": [
      "\u001b[1;31m---------------------------------------------------------------------------\u001b[0m",
      "\u001b[1;31mException\u001b[0m                                 Traceback (most recent call last)",
      "\u001b[1;32m~\\AppData\\Local\\Temp\\ipykernel_24128\\2196609.py\u001b[0m in \u001b[0;36m?\u001b[1;34m()\u001b[0m\n\u001b[0;32m     16\u001b[0m curve_loop_left = np.concatenate((llist_y_lower[:, 0], \n\u001b[0;32m     17\u001b[0m                                   \u001b[1;33m[\u001b[0m\u001b[0mllist_z_01\u001b[0m\u001b[1;33m]\u001b[0m\u001b[1;33m,\u001b[0m\u001b[1;33m\u001b[0m\u001b[1;33m\u001b[0m\u001b[0m\n\u001b[0;32m     18\u001b[0m                                   \u001b[1;33m[\u001b[0m\u001b[1;33m-\u001b[0m\u001b[0mllist_x_upper_0\u001b[0m\u001b[1;33m]\u001b[0m\u001b[1;33m,\u001b[0m\u001b[1;33m\u001b[0m\u001b[1;33m\u001b[0m\u001b[0m\n\u001b[0;32m     19\u001b[0m                                   [-llist_z_00])).astype(int).tolist()\n\u001b[1;32m---> 20\u001b[1;33m \u001b[0ms_left\u001b[0m \u001b[1;33m=\u001b[0m \u001b[0mfactory\u001b[0m\u001b[1;33m.\u001b[0m\u001b[0maddPlaneSurface\u001b[0m\u001b[1;33m(\u001b[0m\u001b[1;33m[\u001b[0m\u001b[0mfactory\u001b[0m\u001b[1;33m.\u001b[0m\u001b[0maddCurveLoop\u001b[0m\u001b[1;33m(\u001b[0m\u001b[0mcurve_loop_left\u001b[0m\u001b[1;33m)\u001b[0m\u001b[1;33m]\u001b[0m\u001b[1;33m)\u001b[0m\u001b[1;33m\u001b[0m\u001b[1;33m\u001b[0m\u001b[0m\n\u001b[0m\u001b[0;32m     21\u001b[0m \u001b[1;33m\u001b[0m\u001b[0m\n\u001b[0;32m     22\u001b[0m \u001b[1;31m# 创建right面的线环和面\u001b[0m\u001b[1;33m\u001b[0m\u001b[1;33m\u001b[0m\u001b[0m\n\u001b[0;32m     23\u001b[0m curve_loop_right = np.concatenate((llist_y_lower[:, -1], \n",
      "\u001b[1;32mc:\\Users\\ZhangXiaofeng\\anaconda3\\envs\\gmsh\\lib\\site-packages\\gmsh.py\u001b[0m in \u001b[0;36m?\u001b[1;34m(curveTags, tag)\u001b[0m\n\u001b[0;32m   6951\u001b[0m                 \u001b[0mapi_curveTags_\u001b[0m\u001b[1;33m,\u001b[0m \u001b[0mapi_curveTags_n_\u001b[0m\u001b[1;33m,\u001b[0m\u001b[1;33m\u001b[0m\u001b[1;33m\u001b[0m\u001b[0m\n\u001b[0;32m   6952\u001b[0m                 \u001b[0mc_int\u001b[0m\u001b[1;33m(\u001b[0m\u001b[0mtag\u001b[0m\u001b[1;33m)\u001b[0m\u001b[1;33m,\u001b[0m\u001b[1;33m\u001b[0m\u001b[1;33m\u001b[0m\u001b[0m\n\u001b[0;32m   6953\u001b[0m                 byref(ierr))\n\u001b[0;32m   6954\u001b[0m             \u001b[1;32mif\u001b[0m \u001b[0mierr\u001b[0m\u001b[1;33m.\u001b[0m\u001b[0mvalue\u001b[0m \u001b[1;33m!=\u001b[0m \u001b[1;36m0\u001b[0m\u001b[1;33m:\u001b[0m\u001b[1;33m\u001b[0m\u001b[1;33m\u001b[0m\u001b[0m\n\u001b[1;32m-> 6955\u001b[1;33m                 \u001b[1;32mraise\u001b[0m \u001b[0mException\u001b[0m\u001b[1;33m(\u001b[0m\u001b[0mlogger\u001b[0m\u001b[1;33m.\u001b[0m\u001b[0mgetLastError\u001b[0m\u001b[1;33m(\u001b[0m\u001b[1;33m)\u001b[0m\u001b[1;33m)\u001b[0m\u001b[1;33m\u001b[0m\u001b[1;33m\u001b[0m\u001b[0m\n\u001b[0m\u001b[0;32m   6956\u001b[0m             \u001b[1;32mreturn\u001b[0m \u001b[0mapi_result_\u001b[0m\u001b[1;33m\u001b[0m\u001b[1;33m\u001b[0m\u001b[0m\n",
      "\u001b[1;31mException\u001b[0m: Curve loop is not closed"
     ]
    }
   ],
   "source": [
    "# 创建front面的线环和面\n",
    "curve_loop_front = np.concatenate((llist_x_lower[0], \n",
    "                                   [llist_z_10], \n",
    "                                   [-llist_x_upper_0], \n",
    "                                   [-llist_z_00])).astype(int).tolist()\n",
    "s_front = factory.addPlaneSurface([factory.addCurveLoop(curve_loop_front)])\n",
    "\n",
    "# 创建back面的线环和面\n",
    "curve_loop_back = np.concatenate((llist_x_lower[-1], \n",
    "                                  [llist_z_11], \n",
    "                                  [-llist_x_upper_1], \n",
    "                                  [-llist_z_01])).astype(int).tolist()\n",
    "s_back = factory.addPlaneSurface([factory.addCurveLoop(curve_loop_back)])\n",
    "\n",
    "# 创建left面的线环和面\n",
    "curve_loop_left = np.concatenate((llist_y_lower[:, 0], \n",
    "                                  [llist_z_01], \n",
    "                                  [-llist_y_upper_0], \n",
    "                                  [-llist_z_00])).astype(int).tolist()\n",
    "s_left = factory.addPlaneSurface([factory.addCurveLoop(curve_loop_left)])\n",
    "\n",
    "# 创建right面的线环和面\n",
    "curve_loop_right = np.concatenate((llist_y_lower[:, -1], \n",
    "                                   [llist_z_11], \n",
    "                                   [-llist_y_upper_1], \n",
    "                                   [-llist_z_10])).astype(int).tolist()\n",
    "s_right = factory.addPlaneSurface([factory.addCurveLoop(curve_loop_right)])\n",
    "\n",
    "# 创建top面的线环和面\n",
    "curve_loop_top = np.array([llist_x_upper_0, \n",
    "                           llist_y_upper_1, \n",
    "                           -llist_x_upper_1, \n",
    "                           -llist_y_upper_0]).astype(int).tolist()\n",
    "s_top = factory.addPlaneSurface([factory.addCurveLoop(curve_loop_top)])"
   ]
  },
  {
   "cell_type": "code",
   "execution_count": null,
   "metadata": {},
   "outputs": [],
   "source": [
    "# 创建体\n",
    "surface_loop = np.concatenate((slist_lower.flatten(),\n",
    "                [s_front, s_back, s_left, s_right, s_top])).astype(int).tolist()\n",
    "v = factory.addVolume([factory.addSurfaceLoop(surface_loop)])"
   ]
  },
  {
   "cell_type": "code",
   "execution_count": null,
   "metadata": {},
   "outputs": [],
   "source": [
    "# 底面向上进行拉伸创建边界层网格\n",
    "surface_to_extrude = [(2, s_index) for s_index in slist_lower.flatten()]\n",
    "out_dim_tags = factory.extrude(\n",
    "    surface_to_extrude,\n",
    "    0, 0, zLayer,  # extrusion along z-axis\n",
    "    numElements=[1,1,1,1,1], \n",
    "    heights=[0.1343797033,0.2956353472,0.4891421200,0.7213502473,1], #todo: 编写边界层厚度计算程序\n",
    "    recombine=True\n",
    ")"
   ]
  },
  {
   "cell_type": "code",
   "execution_count": null,
   "metadata": {},
   "outputs": [],
   "source": [
    "extrude_v_list = [tag for tag in out_dim_tags if tag[0] == 3]\n",
    "v_cut = factory.cut([(3, v)], extrude_v_list, removeTool=False)"
   ]
  },
  {
   "cell_type": "code",
   "execution_count": 11,
   "metadata": {},
   "outputs": [],
   "source": [
    "factory.synchronize()"
   ]
  },
  {
   "cell_type": "code",
   "execution_count": null,
   "metadata": {},
   "outputs": [
    {
     "ename": "Exception",
     "evalue": "Could not find extruded node (9227.098672804099, 2092.52976593108, 2129.333333333333) in surface 29488",
     "output_type": "error",
     "traceback": [
      "\u001b[1;31m---------------------------------------------------------------------------\u001b[0m",
      "\u001b[1;31mException\u001b[0m                                 Traceback (most recent call last)",
      "\u001b[1;32m~\\AppData\\Local\\Temp\\ipykernel_50340\\53984969.py\u001b[0m in \u001b[0;36m?\u001b[1;34m()\u001b[0m\n\u001b[0;32m      5\u001b[0m \u001b[0mgmsh\u001b[0m\u001b[1;33m.\u001b[0m\u001b[0mmodel\u001b[0m\u001b[1;33m.\u001b[0m\u001b[0maddPhysicalGroup\u001b[0m\u001b[1;33m(\u001b[0m\u001b[1;36m2\u001b[0m\u001b[1;33m,\u001b[0m \u001b[1;33m[\u001b[0m\u001b[0ms_back\u001b[0m\u001b[1;33m]\u001b[0m\u001b[1;33m,\u001b[0m \u001b[0mname\u001b[0m\u001b[1;33m=\u001b[0m\u001b[1;34m\"back\"\u001b[0m\u001b[1;33m)\u001b[0m\u001b[1;33m\u001b[0m\u001b[1;33m\u001b[0m\u001b[0m\n\u001b[0;32m      6\u001b[0m \u001b[0mgmsh\u001b[0m\u001b[1;33m.\u001b[0m\u001b[0mmodel\u001b[0m\u001b[1;33m.\u001b[0m\u001b[0maddPhysicalGroup\u001b[0m\u001b[1;33m(\u001b[0m\u001b[1;36m2\u001b[0m\u001b[1;33m,\u001b[0m \u001b[1;33m[\u001b[0m\u001b[0ms_left\u001b[0m\u001b[1;33m]\u001b[0m\u001b[1;33m,\u001b[0m \u001b[0mname\u001b[0m\u001b[1;33m=\u001b[0m\u001b[1;34m\"left\"\u001b[0m\u001b[1;33m)\u001b[0m\u001b[1;33m\u001b[0m\u001b[1;33m\u001b[0m\u001b[0m\n\u001b[0;32m      7\u001b[0m \u001b[0mgmsh\u001b[0m\u001b[1;33m.\u001b[0m\u001b[0mmodel\u001b[0m\u001b[1;33m.\u001b[0m\u001b[0maddPhysicalGroup\u001b[0m\u001b[1;33m(\u001b[0m\u001b[1;36m2\u001b[0m\u001b[1;33m,\u001b[0m \u001b[1;33m[\u001b[0m\u001b[0ms_top\u001b[0m\u001b[1;33m]\u001b[0m\u001b[1;33m,\u001b[0m \u001b[0mname\u001b[0m\u001b[1;33m=\u001b[0m\u001b[1;34m\"upperWall\"\u001b[0m\u001b[1;33m)\u001b[0m\u001b[1;33m\u001b[0m\u001b[1;33m\u001b[0m\u001b[0m\n\u001b[0;32m      8\u001b[0m \u001b[0mgmsh\u001b[0m\u001b[1;33m.\u001b[0m\u001b[0mmodel\u001b[0m\u001b[1;33m.\u001b[0m\u001b[0maddPhysicalGroup\u001b[0m\u001b[1;33m(\u001b[0m\u001b[1;36m3\u001b[0m\u001b[1;33m,\u001b[0m \u001b[1;33m[\u001b[0m\u001b[0mv\u001b[0m\u001b[1;33m]\u001b[0m\u001b[1;33m+\u001b[0m\u001b[1;33m[\u001b[0m\u001b[0mtag\u001b[0m\u001b[1;33m[\u001b[0m\u001b[1;36m1\u001b[0m\u001b[1;33m]\u001b[0m \u001b[1;32mfor\u001b[0m \u001b[0mtag\u001b[0m \u001b[1;32min\u001b[0m \u001b[0mextrude_v_list\u001b[0m\u001b[1;33m]\u001b[0m\u001b[1;33m,\u001b[0m \u001b[0mname\u001b[0m\u001b[1;33m=\u001b[0m\u001b[1;34m\"interfluid\"\u001b[0m\u001b[1;33m)\u001b[0m\u001b[1;33m\u001b[0m\u001b[1;33m\u001b[0m\u001b[0m\n\u001b[1;32m----> 9\u001b[1;33m \u001b[0mgmsh\u001b[0m\u001b[1;33m.\u001b[0m\u001b[0mmodel\u001b[0m\u001b[1;33m.\u001b[0m\u001b[0mmesh\u001b[0m\u001b[1;33m.\u001b[0m\u001b[0mgenerate\u001b[0m\u001b[1;33m(\u001b[0m\u001b[1;36m3\u001b[0m\u001b[1;33m)\u001b[0m\u001b[1;33m\u001b[0m\u001b[1;33m\u001b[0m\u001b[0m\n\u001b[0m\u001b[0;32m     10\u001b[0m \u001b[0mgmsh\u001b[0m\u001b[1;33m.\u001b[0m\u001b[0mwrite\u001b[0m\u001b[1;33m(\u001b[0m\u001b[1;34m\"mesh.msh\"\u001b[0m\u001b[1;33m)\u001b[0m\u001b[1;33m\u001b[0m\u001b[1;33m\u001b[0m\u001b[0m\n\u001b[0;32m     11\u001b[0m \u001b[1;31m# gmsh.fltk.run()\u001b[0m\u001b[1;33m\u001b[0m\u001b[1;33m\u001b[0m\u001b[0m\n",
      "\u001b[1;32mc:\\Users\\ZhangXiaofeng\\anaconda3\\envs\\gmsh\\lib\\site-packages\\gmsh.py\u001b[0m in \u001b[0;36m?\u001b[1;34m(dim)\u001b[0m\n\u001b[0;32m   2002\u001b[0m             lib.gmshModelMeshGenerate(\n\u001b[0;32m   2003\u001b[0m                 \u001b[0mc_int\u001b[0m\u001b[1;33m(\u001b[0m\u001b[0mdim\u001b[0m\u001b[1;33m)\u001b[0m\u001b[1;33m,\u001b[0m\u001b[1;33m\u001b[0m\u001b[1;33m\u001b[0m\u001b[0m\n\u001b[0;32m   2004\u001b[0m                 byref(ierr))\n\u001b[0;32m   2005\u001b[0m             \u001b[1;32mif\u001b[0m \u001b[0mierr\u001b[0m\u001b[1;33m.\u001b[0m\u001b[0mvalue\u001b[0m \u001b[1;33m!=\u001b[0m \u001b[1;36m0\u001b[0m\u001b[1;33m:\u001b[0m\u001b[1;33m\u001b[0m\u001b[1;33m\u001b[0m\u001b[0m\n\u001b[1;32m-> 2006\u001b[1;33m                 \u001b[1;32mraise\u001b[0m \u001b[0mException\u001b[0m\u001b[1;33m(\u001b[0m\u001b[0mlogger\u001b[0m\u001b[1;33m.\u001b[0m\u001b[0mgetLastError\u001b[0m\u001b[1;33m(\u001b[0m\u001b[1;33m)\u001b[0m\u001b[1;33m)\u001b[0m\u001b[1;33m\u001b[0m\u001b[1;33m\u001b[0m\u001b[0m\n\u001b[0m",
      "\u001b[1;31mException\u001b[0m: Could not find extruded node (9227.098672804099, 2092.52976593108, 2129.333333333333) in surface 29488"
     ]
    }
   ],
   "source": [
    "gmsh.option.setNumber(\"Mesh.MshFileVersion\", 2.2)\n",
    "gmsh.model.addPhysicalGroup(2, slist_lower.flatten().tolist(), name=\"terrain\")\n",
    "gmsh.model.addPhysicalGroup(2, [s_front], name=\"front\")\n",
    "gmsh.model.addPhysicalGroup(2, [s_right], name=\"right\")\n",
    "gmsh.model.addPhysicalGroup(2, [s_back], name=\"back\")\n",
    "gmsh.model.addPhysicalGroup(2, [s_left], name=\"left\")\n",
    "gmsh.model.addPhysicalGroup(2, [s_top], name=\"upperWall\")\n",
    "gmsh.model.addPhysicalGroup(3, [v]+[tag[1] for tag in extrude_v_list], name=\"interfluid\")\n",
    "gmsh.model.mesh.generate(3)\n",
    "gmsh.write(\"mesh.msh\")\n",
    "gmsh.fltk.run()"
   ]
  },
  {
   "cell_type": "code",
   "execution_count": 15,
   "metadata": {},
   "outputs": [],
   "source": [
    "gmsh.fltk.run()"
   ]
  },
  {
   "cell_type": "code",
   "execution_count": 13,
   "metadata": {},
   "outputs": [
    {
     "ename": "Exception",
     "evalue": "Could not get last error",
     "output_type": "error",
     "traceback": [
      "\u001b[1;31m---------------------------------------------------------------------------\u001b[0m",
      "\u001b[1;31mException\u001b[0m                                 Traceback (most recent call last)",
      "\u001b[1;32m~\\AppData\\Local\\Temp\\ipykernel_9240\\1454793171.py\u001b[0m in \u001b[0;36m?\u001b[1;34m()\u001b[0m\n\u001b[1;32m----> 1\u001b[1;33m \u001b[0mgmsh\u001b[0m\u001b[1;33m.\u001b[0m\u001b[0mfinalize\u001b[0m\u001b[1;33m(\u001b[0m\u001b[1;33m)\u001b[0m\u001b[1;33m\u001b[0m\u001b[1;33m\u001b[0m\u001b[0m\n\u001b[0m",
      "\u001b[1;32mc:\\Users\\ZhangXiaofeng\\anaconda3\\envs\\gmsh\\lib\\site-packages\\gmsh.py\u001b[0m in \u001b[0;36m?\u001b[1;34m()\u001b[0m\n\u001b[0;32m    314\u001b[0m         byref(ierr))\n\u001b[0;32m    315\u001b[0m     \u001b[1;32mif\u001b[0m \u001b[0moldsig\u001b[0m \u001b[1;32mis\u001b[0m \u001b[1;32mnot\u001b[0m \u001b[1;32mNone\u001b[0m\u001b[1;33m:\u001b[0m\u001b[1;33m\u001b[0m\u001b[1;33m\u001b[0m\u001b[0m\n\u001b[0;32m    316\u001b[0m         \u001b[0msignal\u001b[0m\u001b[1;33m.\u001b[0m\u001b[0msignal\u001b[0m\u001b[1;33m(\u001b[0m\u001b[0msignal\u001b[0m\u001b[1;33m.\u001b[0m\u001b[0mSIGINT\u001b[0m\u001b[1;33m,\u001b[0m \u001b[0moldsig\u001b[0m\u001b[1;33m)\u001b[0m\u001b[1;33m\u001b[0m\u001b[1;33m\u001b[0m\u001b[0m\n\u001b[0;32m    317\u001b[0m     \u001b[1;32mif\u001b[0m \u001b[0mierr\u001b[0m\u001b[1;33m.\u001b[0m\u001b[0mvalue\u001b[0m \u001b[1;33m!=\u001b[0m \u001b[1;36m0\u001b[0m\u001b[1;33m:\u001b[0m\u001b[1;33m\u001b[0m\u001b[1;33m\u001b[0m\u001b[0m\n\u001b[1;32m--> 318\u001b[1;33m         \u001b[1;32mraise\u001b[0m \u001b[0mException\u001b[0m\u001b[1;33m(\u001b[0m\u001b[0mlogger\u001b[0m\u001b[1;33m.\u001b[0m\u001b[0mgetLastError\u001b[0m\u001b[1;33m(\u001b[0m\u001b[1;33m)\u001b[0m\u001b[1;33m)\u001b[0m\u001b[1;33m\u001b[0m\u001b[1;33m\u001b[0m\u001b[0m\n\u001b[0m",
      "\u001b[1;32mc:\\Users\\ZhangXiaofeng\\anaconda3\\envs\\gmsh\\lib\\site-packages\\gmsh.py\u001b[0m in \u001b[0;36m?\u001b[1;34m()\u001b[0m\n\u001b[0;32m  10610\u001b[0m         lib.gmshLoggerGetLastError(\n\u001b[0;32m  10611\u001b[0m             \u001b[0mbyref\u001b[0m\u001b[1;33m(\u001b[0m\u001b[0mapi_error_\u001b[0m\u001b[1;33m)\u001b[0m\u001b[1;33m,\u001b[0m\u001b[1;33m\u001b[0m\u001b[1;33m\u001b[0m\u001b[0m\n\u001b[0;32m  10612\u001b[0m             byref(ierr))\n\u001b[0;32m  10613\u001b[0m         \u001b[1;32mif\u001b[0m \u001b[0mierr\u001b[0m\u001b[1;33m.\u001b[0m\u001b[0mvalue\u001b[0m \u001b[1;33m!=\u001b[0m \u001b[1;36m0\u001b[0m\u001b[1;33m:\u001b[0m\u001b[1;33m\u001b[0m\u001b[1;33m\u001b[0m\u001b[0m\n\u001b[1;32m> 10614\u001b[1;33m             \u001b[1;32mraise\u001b[0m \u001b[0mException\u001b[0m\u001b[1;33m(\u001b[0m\u001b[1;34m'Could not get last error'\u001b[0m\u001b[1;33m)\u001b[0m\u001b[1;33m\u001b[0m\u001b[1;33m\u001b[0m\u001b[0m\n\u001b[0m\u001b[0;32m  10615\u001b[0m         \u001b[1;32mreturn\u001b[0m \u001b[0m_ostring\u001b[0m\u001b[1;33m(\u001b[0m\u001b[0mapi_error_\u001b[0m\u001b[1;33m)\u001b[0m\u001b[1;33m\u001b[0m\u001b[1;33m\u001b[0m\u001b[0m\n",
      "\u001b[1;31mException\u001b[0m: Could not get last error"
     ]
    }
   ],
   "source": [
    "gmsh.finalize()"
   ]
  }
 ],
 "metadata": {
  "kernelspec": {
   "display_name": "gmsh",
   "language": "python",
   "name": "python3"
  },
  "language_info": {
   "codemirror_mode": {
    "name": "ipython",
    "version": 3
   },
   "file_extension": ".py",
   "mimetype": "text/x-python",
   "name": "python",
   "nbconvert_exporter": "python",
   "pygments_lexer": "ipython3",
   "version": "3.10.13"
  }
 },
 "nbformat": 4,
 "nbformat_minor": 2
}
