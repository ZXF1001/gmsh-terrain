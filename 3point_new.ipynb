{
 "cells": [
  {
   "cell_type": "code",
   "execution_count": 1,
   "metadata": {},
   "outputs": [],
   "source": [
    "import gmsh\n",
    "import numpy as np"
   ]
  },
  {
   "cell_type": "code",
   "execution_count": 2,
   "metadata": {},
   "outputs": [],
   "source": [
    "gmsh.initialize()\n",
    "gmsh.model.add(\"my_model\")"
   ]
  },
  {
   "cell_type": "code",
   "execution_count": 3,
   "metadata": {},
   "outputs": [],
   "source": [
    "# n行m列的矩阵，代表dem数据\n",
    "zlist = np.load(\"terrain.npy\")\n",
    "zlist\n",
    "x_dist = 11252.55935707817 # x方向的总间距\n",
    "y_dist = 9608.555047642712 # y方向的总间距\n",
    "lc1 = 10; # 近地面边界层网格尺寸\n",
    "lc2 = 100; # 远离地面边界层网格尺寸\n",
    "zMax = zlist.max() + 2000; # 最大高度\n",
    "zLayer = 10; # 边界层厚度\n",
    "\n",
    "# zlist = np.array([[0.7, 1.1, 1.2,1.1],\n",
    "#                   [1.1, 0.7, 0.8,1.1],\n",
    "#                   [1.2,1.1,0.9,1.1]])\n",
    "# x_dist = 2\n",
    "# y_dist = 1\n",
    "# lc1 = 0.3\n",
    "# lc2 = 0.5\n",
    "# zMax = zlist.max() + 0.5\n",
    "# zLayer = 0.1"
   ]
  },
  {
   "cell_type": "code",
   "execution_count": 4,
   "metadata": {},
   "outputs": [],
   "source": [
    "zlist += zLayer #todo: 注释解释一下为什么要加zLayer\n",
    "dx = x_dist / (zlist.shape[1] - 1) # x方向的间距\n",
    "dy = y_dist / (zlist.shape[0] - 1) # y方向的间距\n",
    "\n",
    "tol_x = dx / 10\n",
    "tol_y = dy / 10"
   ]
  },
  {
   "cell_type": "code",
   "execution_count": 5,
   "metadata": {},
   "outputs": [],
   "source": [
    "zlist = np.flipud(zlist)\n",
    "n = zlist.shape[0]\n",
    "m = zlist.shape[1]\n",
    "# 创建两个空的数组，形状和zlist一样n行m列\n",
    "# 储存下面上每个格点的tag序号\n",
    "plist_lower = np.zeros((n, m)).astype(int)\n",
    "\n",
    "# 创建代表底面上平行于x轴的线段的tag序号的数组\n",
    "# 形状为n行m-1列\n",
    "llist_x_lower = np.zeros((n, m - 1)).astype(int)\n",
    "# 创建代表底面上平行于y轴的线段的tag序号的数组\n",
    "# 形状为n-1行m列\n",
    "llist_y_lower = np.zeros((n - 1, m)).astype(int)\n",
    "\n",
    "# 创建代表底面上的线环的tag序号的数组\n",
    "# 形状为n-1行m-1列\n",
    "llist_loop_lower = np.zeros((n - 1, m - 1)).astype(int)\n",
    "# 创建代表底面上的面的tag序号的数组\n",
    "# 形状为n-1行m-1列\n",
    "slist_lower = np.zeros((n - 1, m - 1)).astype(int)"
   ]
  },
  {
   "cell_type": "code",
   "execution_count": 6,
   "metadata": {},
   "outputs": [],
   "source": [
    "factory = gmsh.model.occ"
   ]
  },
  {
   "cell_type": "code",
   "execution_count": 7,
   "metadata": {},
   "outputs": [],
   "source": [
    "for n_row, row in enumerate(zlist):\n",
    "    for n_col, z in enumerate(row):\n",
    "        plist_lower[n_row][n_col] = factory.addPoint(n_col*dx, n_row*dy, z, lc1)\n",
    "\n",
    "upper_p00_index = factory.addPoint(0, 0, zMax, lc2)\n",
    "upper_p10_index = factory.addPoint((m-1)*dx, 0, zMax, lc2)\n",
    "upper_p11_index = factory.addPoint((m-1)*dx, (n-1)*dy, zMax, lc2)\n",
    "upper_p01_index = factory.addPoint(0, (n-1)*dy, zMax, lc2)\n",
    "\n",
    "\n",
    "# 平行于x轴的线\n",
    "for n_row, row in enumerate(llist_x_lower):\n",
    "    for n_col, p_index in enumerate(row):\n",
    "        llist_x_lower[n_row][n_col] = factory.addLine(plist_lower[n_row][n_col], plist_lower[n_row][n_col + 1])\n",
    "## 顶上的线\n",
    "llist_x_upper_0 = factory.addLine(upper_p00_index, upper_p10_index)\n",
    "llist_x_upper_1 = factory.addLine(upper_p01_index, upper_p11_index)\n",
    "\n",
    "# 平行于y轴的线\n",
    "for n_row, row in enumerate(llist_y_lower):\n",
    "    for n_col, p_index in enumerate(row):\n",
    "        llist_y_lower[n_row][n_col] = factory.addLine(plist_lower[n_row][n_col], plist_lower[n_row + 1][n_col])\n",
    "## 顶上的线\n",
    "llist_y_upper_0 = factory.addLine(upper_p00_index, upper_p01_index)\n",
    "llist_y_upper_1 = factory.addLine(upper_p10_index, upper_p11_index)\n",
    "\n",
    "# 平行于z轴的线\n",
    "llist_z_00 = factory.addLine(plist_lower[0][0], upper_p00_index)\n",
    "llist_z_10 = factory.addLine(plist_lower[0][-1], upper_p10_index)\n",
    "llist_z_11 = factory.addLine(plist_lower[-1][-1], upper_p11_index)\n",
    "llist_z_01 = factory.addLine(plist_lower[-1][0], upper_p01_index)"
   ]
  },
  {
   "cell_type": "code",
   "execution_count": 8,
   "metadata": {},
   "outputs": [],
   "source": [
    "# 创建底面的线环和面\n",
    "for n_row, row in enumerate(llist_loop_lower):\n",
    "    for n_col, p_index in enumerate(row):\n",
    "        llist_loop_lower[n_row][n_col] = factory.addCurveLoop(\n",
    "            [llist_x_lower[n_row][n_col],\n",
    "             llist_y_lower[n_row][n_col + 1],\n",
    "             -llist_x_lower[n_row + 1][n_col],\n",
    "             -llist_y_lower[n_row][n_col]]\n",
    "             )\n",
    "        slist_lower[n_row][n_col] = factory.addSurfaceFilling(\n",
    "            llist_loop_lower[n_row][n_col]\n",
    "            )"
   ]
  },
  {
   "cell_type": "code",
   "execution_count": 9,
   "metadata": {},
   "outputs": [],
   "source": [
    "# 创建front面的线环和面\n",
    "curve_loop_front = np.concatenate((llist_x_lower[0], \n",
    "                                   [llist_z_10], \n",
    "                                   [-llist_x_upper_0], \n",
    "                                   [-llist_z_00])).astype(int).tolist()\n",
    "s_front = factory.addPlaneSurface([factory.addCurveLoop(curve_loop_front)])\n",
    "\n",
    "# 创建back面的线环和面\n",
    "curve_loop_back = np.concatenate((llist_x_lower[-1], \n",
    "                                  [llist_z_11], \n",
    "                                  [-llist_x_upper_1], \n",
    "                                  [-llist_z_01])).astype(int).tolist()\n",
    "s_back = factory.addPlaneSurface([factory.addCurveLoop(curve_loop_back)])\n",
    "\n",
    "# 创建left面的线环和面\n",
    "curve_loop_left = np.concatenate((llist_y_lower[:, 0], \n",
    "                                  [llist_z_01], \n",
    "                                  [-llist_y_upper_0], \n",
    "                                  [-llist_z_00])).astype(int).tolist()\n",
    "s_left = factory.addPlaneSurface([factory.addCurveLoop(curve_loop_left)])\n",
    "\n",
    "# 创建right面的线环和面\n",
    "curve_loop_right = np.concatenate((llist_y_lower[:, -1], \n",
    "                                   [llist_z_11], \n",
    "                                   [-llist_y_upper_1], \n",
    "                                   [-llist_z_10])).astype(int).tolist()\n",
    "s_right = factory.addPlaneSurface([factory.addCurveLoop(curve_loop_right)])\n",
    "\n",
    "# 创建top面的线环和面\n",
    "curve_loop_top = np.array([llist_x_upper_0, \n",
    "                           llist_y_upper_1, \n",
    "                           -llist_x_upper_1, \n",
    "                           -llist_y_upper_0]).astype(int).tolist()\n",
    "s_top = factory.addPlaneSurface([factory.addCurveLoop(curve_loop_top)])"
   ]
  },
  {
   "cell_type": "code",
   "execution_count": 10,
   "metadata": {},
   "outputs": [],
   "source": [
    "# 创建体\n",
    "surface_loop = np.concatenate((slist_lower.flatten(),\n",
    "                [s_front, s_back, s_left, s_right, s_top])).astype(int).tolist()\n",
    "v = factory.addVolume([factory.addSurfaceLoop(surface_loop)])"
   ]
  },
  {
   "cell_type": "code",
   "execution_count": 11,
   "metadata": {},
   "outputs": [],
   "source": [
    "# 底面向下进行拉伸创建边界层网格\n",
    "surface_to_extrude = [(2, s_index) for s_index in slist_lower.flatten()]\n",
    "out_dim_tags = factory.extrude(\n",
    "    surface_to_extrude,\n",
    "    0, 0, -zLayer,  # extrusion along z-axis\n",
    "    numElements=[1,1,1,1,1], \n",
    "    heights=[0.1343797033,0.2956353472,0.4891421200,0.7213502473,1], #todo: 编写边界层厚度计算程序\n",
    "    recombine=True\n",
    ")\n",
    "extrude_v_list = [tag for tag in out_dim_tags if tag[0] == 3]"
   ]
  },
  {
   "cell_type": "code",
   "execution_count": 12,
   "metadata": {},
   "outputs": [],
   "source": [
    "factory.synchronize()"
   ]
  },
  {
   "cell_type": "code",
   "execution_count": 13,
   "metadata": {},
   "outputs": [],
   "source": [
    "# 提取所有的侧面\n",
    "assert len(out_dim_tags) % 6 == 0 #todo: 侧面的个数应该是6的倍数（解释一下）\n",
    "group_num = int(len(out_dim_tags)/6)\n",
    "# 使用掩码获取拉出来的底面，侧面的tag序号\n",
    "mask_side = [False,False,True,True,True,True] * group_num\n",
    "mask_terrain = [True,False,False,False,False,False] * group_num\n",
    "s_side = np.array(out_dim_tags)[mask_side]\n",
    "s_new_terrain = np.array(out_dim_tags)[mask_terrain]\n",
    "# 去重\n",
    "s_side = np.unique(s_side,axis=1)"
   ]
  },
  {
   "cell_type": "code",
   "execution_count": 14,
   "metadata": {},
   "outputs": [],
   "source": [
    "x_min_list =  []\n",
    "x_max_list =  []\n",
    "y_min_list =  []\n",
    "y_max_list =  []\n",
    "for s_tag in s_side:\n",
    "    xmin, ymin, zmin, xmax, ymax, zmax = gmsh.model.getBoundingBox(s_tag[0], s_tag[1])\n",
    "    x_min_list.append(xmin)\n",
    "    x_max_list.append(xmax)\n",
    "    y_min_list.append(ymin)\n",
    "    y_max_list.append(ymax)\n",
    "# 所有侧面的xy坐标最大最小值\n",
    "x_min_all = np.min(x_min_list)\n",
    "x_max_all = np.max(x_max_list)\n",
    "y_min_all = np.min(y_min_list)\n",
    "y_max_all = np.max(y_max_list)"
   ]
  },
  {
   "cell_type": "code",
   "execution_count": 15,
   "metadata": {},
   "outputs": [],
   "source": [
    "# 筛选出总体的四个侧面\n",
    "is_minx = x_min_list < (x_min_all + tol_x)\n",
    "is_miny = y_min_list < (y_min_all + tol_y)\n",
    "is_maxx = x_max_list > (x_max_all - tol_x)\n",
    "is_maxy = y_max_list > (y_max_all - tol_y)\n",
    "is_normal_to_x = (np.array(x_max_list) - np.array(x_min_list)) < tol_x\n",
    "is_normal_to_y = (np.array(y_max_list) - np.array(y_min_list)) < tol_y\n",
    "\n",
    "s_xmin_index = s_side[is_minx & is_normal_to_x][:,1]\n",
    "s_xmax_index = s_side[is_maxx & is_normal_to_x][:,1]\n",
    "s_ymin_index = s_side[is_miny & is_normal_to_y][:,1]\n",
    "s_ymax_index = s_side[is_maxy & is_normal_to_y][:,1]"
   ]
  },
  {
   "cell_type": "code",
   "execution_count": 16,
   "metadata": {},
   "outputs": [],
   "source": [
    "factory.synchronize()"
   ]
  },
  {
   "cell_type": "code",
   "execution_count": 17,
   "metadata": {},
   "outputs": [],
   "source": [
    "gmsh.option.setNumber(\"Mesh.MshFileVersion\", 2.2)\n"
   ]
  },
  {
   "cell_type": "code",
   "execution_count": 18,
   "metadata": {},
   "outputs": [
    {
     "data": {
      "text/plain": [
       "1"
      ]
     },
     "execution_count": 18,
     "metadata": {},
     "output_type": "execute_result"
    }
   ],
   "source": [
    "gmsh.model.addPhysicalGroup(2, s_new_terrain[:,1].tolist(), name=\"terrain\")\n"
   ]
  },
  {
   "cell_type": "code",
   "execution_count": 19,
   "metadata": {},
   "outputs": [
    {
     "data": {
      "text/plain": [
       "2"
      ]
     },
     "execution_count": 19,
     "metadata": {},
     "output_type": "execute_result"
    }
   ],
   "source": [
    "gmsh.model.addPhysicalGroup(2, [s_front]+s_ymin_index.tolist(), name=\"front\")\n"
   ]
  },
  {
   "cell_type": "code",
   "execution_count": 20,
   "metadata": {},
   "outputs": [
    {
     "data": {
      "text/plain": [
       "3"
      ]
     },
     "execution_count": 20,
     "metadata": {},
     "output_type": "execute_result"
    }
   ],
   "source": [
    "gmsh.model.addPhysicalGroup(2, [s_right]+s_xmax_index.tolist(), name=\"outlet\")\n"
   ]
  },
  {
   "cell_type": "code",
   "execution_count": 21,
   "metadata": {},
   "outputs": [
    {
     "data": {
      "text/plain": [
       "4"
      ]
     },
     "execution_count": 21,
     "metadata": {},
     "output_type": "execute_result"
    }
   ],
   "source": [
    "gmsh.model.addPhysicalGroup(2, [s_back]+s_ymax_index.tolist(), name=\"back\")\n"
   ]
  },
  {
   "cell_type": "code",
   "execution_count": 22,
   "metadata": {},
   "outputs": [
    {
     "data": {
      "text/plain": [
       "5"
      ]
     },
     "execution_count": 22,
     "metadata": {},
     "output_type": "execute_result"
    }
   ],
   "source": [
    "gmsh.model.addPhysicalGroup(2, [s_left]+s_xmin_index.tolist(), name=\"inlet\")\n"
   ]
  },
  {
   "cell_type": "code",
   "execution_count": 23,
   "metadata": {},
   "outputs": [
    {
     "data": {
      "text/plain": [
       "6"
      ]
     },
     "execution_count": 23,
     "metadata": {},
     "output_type": "execute_result"
    }
   ],
   "source": [
    "gmsh.model.addPhysicalGroup(2, [s_top], name=\"upperWall\")\n"
   ]
  },
  {
   "cell_type": "code",
   "execution_count": 24,
   "metadata": {},
   "outputs": [
    {
     "data": {
      "text/plain": [
       "7"
      ]
     },
     "execution_count": 24,
     "metadata": {},
     "output_type": "execute_result"
    }
   ],
   "source": [
    "gmsh.model.addPhysicalGroup(3, [v]+[tag[1] for tag in extrude_v_list], name=\"interfluid\")\n"
   ]
  },
  {
   "cell_type": "code",
   "execution_count": 25,
   "metadata": {},
   "outputs": [],
   "source": [
    "gmsh.model.mesh.generate(3)\n"
   ]
  },
  {
   "cell_type": "code",
   "execution_count": null,
   "metadata": {},
   "outputs": [],
   "source": [
    "gmsh.write(\"mesh.msh\")\n"
   ]
  },
  {
   "cell_type": "code",
   "execution_count": 25,
   "metadata": {},
   "outputs": [
    {
     "ename": "",
     "evalue": "",
     "output_type": "error",
     "traceback": [
      "\u001b[1;31m在当前单元格或上一个单元格中执行代码时 Kernel 崩溃。请查看单元格中的代码，以确定故障的可能原因。有关详细信息，请单击 <a href='https://aka.ms/vscodeJupyterKernelCrash'>此处</a>。有关更多详细信息，请查看 Jupyter <a href='command:jupyter.viewOutput'>log</a>。"
     ]
    }
   ],
   "source": [
    "gmsh.fltk.run()"
   ]
  },
  {
   "cell_type": "code",
   "execution_count": null,
   "metadata": {},
   "outputs": [],
   "source": [
    "gmsh.finalize()"
   ]
  }
 ],
 "metadata": {
  "kernelspec": {
   "display_name": "gmsh",
   "language": "python",
   "name": "python3"
  },
  "language_info": {
   "codemirror_mode": {
    "name": "ipython",
    "version": 3
   },
   "file_extension": ".py",
   "mimetype": "text/x-python",
   "name": "python",
   "nbconvert_exporter": "python",
   "pygments_lexer": "ipython3",
   "version": "3.10.13"
  }
 },
 "nbformat": 4,
 "nbformat_minor": 2
}
