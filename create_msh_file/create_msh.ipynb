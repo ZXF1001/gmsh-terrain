{
 "cells": [
  {
   "cell_type": "code",
   "execution_count": 218,
   "metadata": {},
   "outputs": [],
   "source": [
    "import numpy as np\n",
    "from tqdm import trange"
   ]
  },
  {
   "cell_type": "code",
   "execution_count": 219,
   "metadata": {},
   "outputs": [],
   "source": [
    "def get_node_id(i_row, i_col, i_layer, n_row, n_col, n_layer = None):\n",
    "    \"\"\"\n",
    "    根据行列层编号获取节点编号\n",
    "    :param i_row: 行编号\n",
    "    :param i_col: 列编号\n",
    "    :param i_layer: 层编号\n",
    "    :param n_row: 行数\n",
    "    :param n_col: 列数\n",
    "    :param n_layer: 层数\n",
    "    :return: 节点编号\n",
    "    \"\"\"\n",
    "    return i_layer*n_row*n_col + i_row*n_col + i_col + 1\n",
    "def create_msh_from_array(x_array, y_array, z_array, file_path):\n",
    "    \"\"\"\n",
    "    从xyz的坐标数组中创建结构化msh网格\n",
    "    :param x_array:x的一维数组，shape=(n_col,)\n",
    "    :param y_array:y的一维数组，shape=(n_row,)\n",
    "    :param z_array:z的三维数组，shape=(n_row,n_col,n_layer)\n",
    "    :param file_path:文件路径\n",
    "    \"\"\"\n",
    "    n_row = z_array.shape[0]\n",
    "    n_col = z_array.shape[1]\n",
    "    n_layer = z_array.shape[2]\n",
    "    # 检查输入的数组是否符合要求\n",
    "    if x_array.shape[0] != n_col:\n",
    "        raise ValueError(f'x_array.shape[0] != n_col({n_col})')\n",
    "    if y_array.shape[0] != n_row:\n",
    "        raise ValueError(f'y_array.shape[0] != n_row({n_row})')\n",
    "    with open(file_path, 'w') as f:\n",
    "        f.write('$MeshFormat\\n')\n",
    "        f.write('2.2 0 8\\n')\n",
    "        f.write('$EndMeshFormat\\n')\n",
    "        f.write('$PhysicalNames\\n')\n",
    "        f.write('6\\n')\n",
    "        f.write('2 1 \"terrain\"\\n')\n",
    "        f.write('2 2 \"zmax\"\\n')\n",
    "        f.write('2 3 \"xmin\"\\n')\n",
    "        f.write('2 4 \"xmax\"\\n')\n",
    "        f.write('2 5 \"ymin\"\\n')\n",
    "        f.write('2 6 \"ymax\"\\n')\n",
    "        f.write('$EndPhysicalNames\\n')\n",
    "        f.write('$Nodes\\n')\n",
    "        f.write(f'{n_row*n_col*n_layer}\\n')\n",
    "        # 按照顺序给每个节点编号，存入临时字符串变量\n",
    "        print('1. node')\n",
    "        for i_layer in trange(n_layer):\n",
    "            for i_row in range(n_row):\n",
    "                for i_col in range(n_col):\n",
    "                    node_id = get_node_id(i_row, i_col, i_layer, n_row, n_col, n_layer)\n",
    "                    f.write(f'{node_id} {x_array[i_col]} {y_array[i_row]} {z_array[i_row,i_col,i_layer]}\\n')\n",
    "        # print('nodes_str:\\n', nodes_str)\n",
    "        f.write('$EndNodes\\n')\n",
    "        f.write('$Elements\\n')\n",
    "        # 按照顺序给每个体单元编号，存入临时字符串变量\n",
    "        print('2. element')\n",
    "        f.write(f'{(n_row-1)*(n_col-1)*(n_layer-1) + 2*(n_row-1)*(n_col-1) + 2*(n_row-1)*(n_layer-1) + 2*(n_col-1)*(n_layer-1)}\\n')\n",
    "        element_id = 1\n",
    "        for i_layer in range(n_layer-1):\n",
    "            for i_row in range(n_row-1):\n",
    "                for i_col in range(n_col-1):\n",
    "                    # 体单元的8个节点编号\n",
    "                    node_id_1 = get_node_id(i_row, i_col, i_layer, n_row, n_col, n_layer)\n",
    "                    node_id_2 = node_id_1 + 1\n",
    "                    node_id_3 = node_id_2 + n_col\n",
    "                    node_id_4 = node_id_1 + n_col\n",
    "                    node_id_5 = node_id_1 + n_row*n_col\n",
    "                    node_id_6 = node_id_2 + n_row*n_col\n",
    "                    node_id_7 = node_id_3 + n_row*n_col\n",
    "                    node_id_8 = node_id_4 + n_row*n_col\n",
    "                    f.write(f'{element_id} 5 2 0 1 {node_id_1} {node_id_2} {node_id_3} {node_id_4} {node_id_5} {node_id_6} {node_id_7} {node_id_8}\\n')\n",
    "                    element_id += 1\n",
    "        # print('elements_str:\\n', elements_str)\n",
    "        # 按照顺序给每个底面单元编号，存入临时字符串变量\n",
    "        print('3. bottom element')\n",
    "        for i_row in range(n_row-1):\n",
    "            for i_col in range(n_col-1):\n",
    "                # 底面单元的4个节点编号\n",
    "                node_id_1 = get_node_id(i_row, i_col, 0, n_row, n_col, n_layer)\n",
    "                node_id_2 = node_id_1 + 1\n",
    "                node_id_3 = node_id_2 + n_col\n",
    "                node_id_4 = node_id_1 + n_col\n",
    "                f.write(f'{element_id} 3 2 1 1 {node_id_1} {node_id_2} {node_id_3} {node_id_4}\\n') # 第一个1表示底面边界条件组，第二个1表示地面几何组\n",
    "                element_id += 1\n",
    "        # print('bottom_elements_str:\\n', bottom_elements_str)\n",
    "        # 按照顺序给每个zmax单元（即i_layer为n_layer-1的面）编号，存入临时字符串变量\n",
    "        print('4. zmax element')\n",
    "        for i_row in range(n_row-1):\n",
    "            for i_col in range(n_col-1):\n",
    "                # zmax单元的4个节点编号\n",
    "                node_id_1 = get_node_id(i_row, i_col, n_layer-1, n_row, n_col, n_layer)\n",
    "                node_id_2 = node_id_1 + 1\n",
    "                node_id_3 = node_id_2 + n_col\n",
    "                node_id_4 = node_id_1 + n_col\n",
    "                f.write(f'{element_id} 3 2 2 2 {node_id_1} {node_id_2} {node_id_3} {node_id_4}\\n')\n",
    "                element_id += 1\n",
    "        # 按照顺序给每个xmin单元（即n_col为0的面）编号，存入临时字符串变量\n",
    "        print('5. xmin element')\n",
    "        for i_layer in range(n_layer-1):\n",
    "            for i_row in range(n_row-1):\n",
    "                # xmin单元的4个节点编号\n",
    "                node_id_1 = get_node_id(i_row, 0, i_layer, n_row, n_col, n_layer)\n",
    "                node_id_2 = node_id_1 + n_row*n_col\n",
    "                node_id_3 = node_id_2 + n_col\n",
    "                node_id_4 = node_id_1 + n_col\n",
    "                f.write(f'{element_id} 3 2 3 3 {node_id_1} {node_id_2} {node_id_3} {node_id_4}\\n') # 第一个1表示底面边界条件组，第二个1表示地面几何组\n",
    "                element_id += 1\n",
    "        # print('xmin_elements_str:\\n', xmin_elements_str)\n",
    "        # 按照顺序给每个xmax单元（即n_col为n_col-1的面）编号，存入临时字符串变量\n",
    "        print('6. xmax element')\n",
    "        for i_layer in range(n_layer-1):\n",
    "            for i_row in range(n_row-1):\n",
    "                # xmax单元的4个节点编号\n",
    "                node_id_1 = get_node_id(i_row, n_col-1, i_layer, n_row, n_col, n_layer)\n",
    "                node_id_2 = node_id_1 + n_row*n_col\n",
    "                node_id_3 = node_id_2 + n_col\n",
    "                node_id_4 = node_id_1 + n_col\n",
    "                f.write(f'{element_id} 3 2 4 4 {node_id_1} {node_id_2} {node_id_3} {node_id_4}\\n') # 第一个1表示底面边界条件组，第二个1表示地面几何组\n",
    "                element_id += 1\n",
    "        # print('xmax_elements_str:\\n', xmax_elements_str)\n",
    "        # 按照顺序给每个ymin单元（即n_row为0的面）编号，存入临时字符串变量\n",
    "        print('7. ymin element')\n",
    "        for i_layer in range(n_layer-1):\n",
    "            for i_col in range(n_col-1):\n",
    "                # ymin单元的4个节点编号\n",
    "                node_id_1 = get_node_id(0, i_col, i_layer, n_row, n_col, n_layer)\n",
    "                node_id_2 = node_id_1 + n_row*n_col\n",
    "                node_id_3 = node_id_2 + 1\n",
    "                node_id_4 = node_id_1 + 1\n",
    "                f.write(f'{element_id} 3 2 5 5 {node_id_1} {node_id_2} {node_id_3} {node_id_4}\\n') # 第一个1表示底面边界条件组，第二个1表示地面几何组\n",
    "                element_id += 1\n",
    "        # print('ymin_elements_str:\\n', ymin_elements_str)\n",
    "        # 按照顺序给每个ymax单元（即n_row为n_row-1的面）编号，存入临时字符串变量\n",
    "        print('8. ymax element')\n",
    "        for i_layer in range(n_layer-1):\n",
    "            for i_col in range(n_col-1):\n",
    "                # ymax单元的4个节点编号\n",
    "                node_id_1 = get_node_id(n_row-1, i_col, i_layer, n_row, n_col, n_layer)\n",
    "                node_id_2 = node_id_1 + n_row*n_col\n",
    "                node_id_3 = node_id_2 + 1\n",
    "                node_id_4 = node_id_1 + 1\n",
    "                f.write(f'{element_id} 3 2 6 6 {node_id_1} {node_id_2} {node_id_3} {node_id_4}\\n') # 第一个1表示底面边界条件组，第二个1表示地面几何组\n",
    "                element_id += 1\n",
    "        # print('ymax_elements_str:\\n', ymax_elements_str)\n",
    "        f.write('$EndElements\\n')"
   ]
  },
  {
   "cell_type": "markdown",
   "metadata": {},
   "source": [
    "更完整的输入输出（只输入地面的高程和想要的流场高度）"
   ]
  },
  {
   "cell_type": "code",
   "execution_count": 220,
   "metadata": {},
   "outputs": [],
   "source": [
    "# 输入高程数组和xy坐标数组\n",
    "dem_array = np.array([[1   , 1.25, 1.1],\n",
    "                      [1.15, 1.5 , 1.2]])\n",
    "x_array = np.array([1, 2, 3])\n",
    "y_array = np.array([0, 1.5])\n",
    "\n",
    "# 边界层内相关设置\n",
    "tkns = 0.1 # 地表边界层的最底层厚度\n",
    "n_layer = 5 # 地表边界层的层数\n",
    "layer_exponent = 1.2 # 地表边界层的厚度按照指数膨胀\n",
    "# 边界层外相关设置\n",
    "z_max = 5 # 最大高程\n",
    "n_outlayer_need = 20 # 边界层外的层数\n",
    "\n",
    "\n",
    "\n",
    "dem_array = np.flipud(dem_array) # 翻转数组，使得dem_array[0,0]对应的是左下角的点\n",
    "# 生成边界层内的z_layers_array（这里实际上只生成了n_layer-1层，最后一层会在后面画边界层外网格时作为第一层画出来）\n",
    "z_layers_array = np.stack([dem_array+tkns*(1-layer_exponent**i)/(1-layer_exponent) for i in range(n_layer)], axis=2)\n",
    "# 取z_layer_array的最后一维的最后一个数组成数组z_layer_top_array，即边界层的最上一层\n",
    "z_layer_top_array = z_layers_array[:,:,-1]\n"
   ]
  },
  {
   "cell_type": "markdown",
   "metadata": {},
   "source": [
    "每个元素高度上的网格高度满足等比数列，共n_outlayer项，第一项为边界层顶层厚度，总和为z_max-这个位置处的边界层顶层坐标"
   ]
  },
  {
   "cell_type": "code",
   "execution_count": 221,
   "metadata": {},
   "outputs": [],
   "source": [
    "z_0 = z_layer_top_array\n",
    "tkns_1 = tkns * layer_exponent**(n_layer-1) # 边界层最后一层也是边界层外第一层的厚度\n",
    "tkns_all = z_max - z_0 # 边界层外所有层的厚度\n",
    "k_array = tkns_all/tkns_1 # 厚度比数组，也是作为方程的参数\n"
   ]
  },
  {
   "cell_type": "markdown",
   "metadata": {},
   "source": [
    "计算边界层外每个xy点的膨胀率组成数组"
   ]
  },
  {
   "cell_type": "code",
   "execution_count": 222,
   "metadata": {},
   "outputs": [],
   "source": [
    "from concurrent.futures import ThreadPoolExecutor\n",
    "from scipy.optimize import newton\n",
    "n_outlayer = n_outlayer_need+1\n",
    "def f(q, k):\n",
    "    return (q**n_outlayer - 1) / (q - 1) - k\n",
    "\n",
    "def solve_for_k(k):\n",
    "    # 设置合适的初始猜测值\n",
    "    initial_guess = 2.2\n",
    "    try:\n",
    "        return newton(f, initial_guess, args=(k,), maxiter=10000)\n",
    "    except RuntimeError:\n",
    "        # 处理不收敛的情况\n",
    "        return np.nan\n",
    "\n",
    "\n",
    "# 假设 k_values 是您的 NumPy 数组\n",
    "k_values = k_array.flatten()\n",
    "\n",
    "# 获取独特的 k 值和它们的索引\n",
    "unique_ks, indices = np.unique(k_values, return_inverse=True)\n",
    "\n",
    "# 并行处理独特的 k 值\n",
    "with ThreadPoolExecutor(max_workers=4) as executor:\n",
    "    results = list(executor.map(solve_for_k, unique_ks))\n",
    "\n",
    "# 将结果映射回原始数组\n",
    "q_array = np.array(results)[indices].reshape(k_array.shape)\n",
    "# 如果有nan，提示\n",
    "if np.any(np.isnan(q_array)):\n",
    "    print('warning: some q is nan')"
   ]
  },
  {
   "cell_type": "markdown",
   "metadata": {},
   "source": [
    "基于膨胀率数组计算每个xy点上方的每个网格点的z坐标"
   ]
  },
  {
   "cell_type": "code",
   "execution_count": 223,
   "metadata": {},
   "outputs": [],
   "source": [
    "# 计算边界层外每一层的z值\n",
    "q_array_reshaped = q_array.reshape(*q_array.shape, 1)\n",
    "n_outlayer_list = np.arange(n_outlayer).reshape(1, 1, -1)\n",
    "tkns_array = tkns_1 * q_array_reshaped**n_outlayer_list\n",
    "z_0_reshaped = z_0.reshape(*z_0.shape, 1)\n",
    "z_outlayers_array = z_0_reshaped + np.cumsum(tkns_array, axis=2)\n",
    "\n",
    "# 将z_outlayers_array堆叠到z_layers_array的最后一维，得到z_array\n",
    "z_array = np.concatenate([z_layers_array, z_outlayers_array], axis=2)"
   ]
  },
  {
   "cell_type": "code",
   "execution_count": 224,
   "metadata": {},
   "outputs": [
    {
     "name": "stdout",
     "output_type": "stream",
     "text": [
      "1. node\n"
     ]
    },
    {
     "name": "stderr",
     "output_type": "stream",
     "text": [
      "100%|██████████| 26/26 [00:00<00:00, 26082.73it/s]"
     ]
    },
    {
     "name": "stdout",
     "output_type": "stream",
     "text": [
      "2. element\n",
      "3. bottom element\n",
      "4. zmax element\n",
      "5. xmin element\n",
      "6. xmax element\n",
      "7. ymin element\n",
      "8. ymax element\n"
     ]
    },
    {
     "name": "stderr",
     "output_type": "stream",
     "text": [
      "\n"
     ]
    }
   ],
   "source": [
    "create_msh_from_array(x_array, y_array, z_array, 'test.msh')"
   ]
  },
  {
   "cell_type": "markdown",
   "metadata": {},
   "source": [
    "真实地形数据量的测试"
   ]
  },
  {
   "cell_type": "code",
   "execution_count": 225,
   "metadata": {},
   "outputs": [
    {
     "name": "stdout",
     "output_type": "stream",
     "text": [
      "1. node\n"
     ]
    },
    {
     "name": "stderr",
     "output_type": "stream",
     "text": [
      "100%|██████████| 111/111 [00:01<00:00, 74.86it/s]\n"
     ]
    },
    {
     "name": "stdout",
     "output_type": "stream",
     "text": [
      "2. element\n",
      "3. bottom element\n",
      "4. zmax element\n",
      "5. xmin element\n",
      "6. xmax element\n",
      "7. ymin element\n",
      "8. ymax element\n"
     ]
    }
   ],
   "source": [
    "# 输入高程数组和xy坐标数组\n",
    "dem_array = np.load('../mzs_12.5m.npy')\n",
    "x_array = np.arange(0, dem_array.shape[1]*12.5, 12.5)\n",
    "y_array = np.arange(0, dem_array.shape[0]*12.5, 12.5)\n",
    "\n",
    "# 边界层内相关设置\n",
    "tkns = 0.5 # 地表边界层的最底层厚度\n",
    "n_layer = 10 # 地表边界层的层数\n",
    "layer_exponent = 1.2 # 地表边界层的厚度按照指数膨胀\n",
    "# 边界层外相关设置\n",
    "z_max = dem_array.max()+1000 # 最大高程\n",
    "n_outlayer_need = 100 # 边界层外的层数\n",
    "\n",
    "\n",
    "\n",
    "dem_array = np.flipud(dem_array) # 翻转数组，使得dem_array[0,0]对应的是左下角的点\n",
    "# 生成边界层内的z_layers_array（这里实际上只生成了n_layer-1层，最后一层会在后面画边界层外网格时作为第一层画出来）\n",
    "z_layers_array = np.stack([dem_array+tkns*(1-layer_exponent**i)/(1-layer_exponent) for i in range(n_layer)], axis=2)\n",
    "# 取z_layer_array的最后一维的最后一个数组成数组z_layer_top_array，即边界层的最上一层\n",
    "z_layer_top_array = z_layers_array[:,:,-1]\n",
    "\n",
    "\n",
    "\n",
    "\n",
    "\n",
    "z_0 = z_layer_top_array\n",
    "tkns_1 = tkns * layer_exponent**(n_layer-1) # 边界层最后一层也是边界层外第一层的厚度\n",
    "tkns_all = z_max - z_0 # 边界层外所有层的厚度\n",
    "k_array = tkns_all/tkns_1 # 厚度比数组，也是作为方程的参数\n",
    "\n",
    "\n",
    "\n",
    "\n",
    "\n",
    "from concurrent.futures import ThreadPoolExecutor\n",
    "from scipy.optimize import newton\n",
    "n_outlayer = n_outlayer_need+1\n",
    "def f(q, k):\n",
    "    return (q**n_outlayer - 1) / (q - 1) - k\n",
    "\n",
    "def solve_for_k(k):\n",
    "    # 设置合适的初始猜测值\n",
    "    initial_guess = 2.2\n",
    "    try:\n",
    "        return newton(f, initial_guess, args=(k,), maxiter=10000)\n",
    "    except RuntimeError:\n",
    "        # 处理不收敛的情况\n",
    "        return np.nan\n",
    "\n",
    "\n",
    "# 假设 k_values 是您的 NumPy 数组\n",
    "k_values = k_array.flatten()\n",
    "\n",
    "# 获取独特的 k 值和它们的索引\n",
    "unique_ks, indices = np.unique(k_values, return_inverse=True)\n",
    "\n",
    "# 并行处理独特的 k 值\n",
    "with ThreadPoolExecutor(max_workers=4) as executor:\n",
    "    results = list(executor.map(solve_for_k, unique_ks))\n",
    "\n",
    "# 将结果映射回原始数组\n",
    "q_array = np.array(results)[indices].reshape(k_array.shape)\n",
    "# 如果有nan，提示\n",
    "if np.any(np.isnan(q_array)):\n",
    "    print('warning: some q is nan')\n",
    "\n",
    "\n",
    "\n",
    "\n",
    "# 计算边界层外每一层的z值\n",
    "q_array_reshaped = q_array.reshape(*q_array.shape, 1)\n",
    "n_outlayer_list = np.arange(n_outlayer).reshape(1, 1, -1)\n",
    "tkns_array = tkns_1 * q_array_reshaped**n_outlayer_list\n",
    "z_0_reshaped = z_0.reshape(*z_0.shape, 1)\n",
    "z_outlayers_array = z_0_reshaped + np.cumsum(tkns_array, axis=2)\n",
    "\n",
    "# 将z_outlayers_array堆叠到z_layers_array的最后一维，得到z_array\n",
    "z_array = np.concatenate([z_layers_array, z_outlayers_array], axis=2)\n",
    "\n",
    "\n",
    "\n",
    "\n",
    "create_msh_from_array(x_array, y_array, z_array, 'terrain.msh')"
   ]
  }
 ],
 "metadata": {
  "kernelspec": {
   "display_name": "gmsh",
   "language": "python",
   "name": "python3"
  },
  "language_info": {
   "codemirror_mode": {
    "name": "ipython",
    "version": 3
   },
   "file_extension": ".py",
   "mimetype": "text/x-python",
   "name": "python",
   "nbconvert_exporter": "python",
   "pygments_lexer": "ipython3",
   "version": "3.8.18"
  }
 },
 "nbformat": 4,
 "nbformat_minor": 2
}
